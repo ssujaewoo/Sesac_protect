{
  "cells": [
    {
      "cell_type": "markdown",
      "metadata": {
        "id": "q2Pr7oBdYLdf"
      },
      "source": [
        "# 이미지 데이터 셋을 이용한 CNN Modeling\n",
        "## Dataset Categorical Classification\n",
        "* Train_Data : \n",
        "* Valid_Data : \n",
        "* Test_Data :"
      ]
    },
    {
      "cell_type": "code",
      "execution_count": null,
      "metadata": {
        "id": "RbPgODpVzdHI"
      },
      "outputs": [],
      "source": [
        "import warnings\n",
        "warnings.filterwarnings('ignore')"
      ]
    },
    {
      "cell_type": "markdown",
      "metadata": {
        "id": "kGLxnpmRyMwH"
      },
      "source": [
        "* Import TensorFlow"
      ]
    },
    {
      "cell_type": "code",
      "execution_count": null,
      "metadata": {
        "colab": {
          "base_uri": "https://localhost:8080/",
          "height": 36
        },
        "id": "axDX2DfUyPlO",
        "outputId": "fa8db489-f895-446a-98b7-b44e4c9b2727"
      },
      "outputs": [
        {
          "output_type": "execute_result",
          "data": {
            "text/plain": [
              "'2.11.0'"
            ],
            "application/vnd.google.colaboratory.intrinsic+json": {
              "type": "string"
            }
          },
          "metadata": {},
          "execution_count": 2
        }
      ],
      "source": [
        "import tensorflow as tf\n",
        "\n",
        "tf.__version__"
      ]
    },
    {
      "cell_type": "markdown",
      "metadata": {
        "id": "1DyFdyVxFyHK"
      },
      "source": [
        "# I. Data Preprocessing"
      ]
    },
    {
      "cell_type": "markdown",
      "metadata": {
        "id": "D9zdBsGKnLUo"
      },
      "source": [
        "> ## 1) Unzip 'posture_image.zip'"
      ]
    },
    {
      "cell_type": "code",
      "execution_count": null,
      "metadata": {
        "id": "WkuHaDXcnUtY"
      },
      "outputs": [],
      "source": [
        "!unzip -q /content/posture_image.zip"
      ]
    },
    {
      "cell_type": "markdown",
      "metadata": {
        "id": "nYRGJ9bpp4pF"
      },
      "source": [
        "* 학습 데이터 확인"
      ]
    },
    {
      "cell_type": "code",
      "execution_count": null,
      "metadata": {
        "id": "FdQBGRJTp0MV"
      },
      "outputs": [],
      "source": [
        "!ls -l"
      ]
    },
    {
      "cell_type": "markdown",
      "metadata": {
        "id": "H49A769LYp-a"
      },
      "source": [
        "> ## 2) Image_File Directory Setting"
      ]
    },
    {
      "cell_type": "code",
      "execution_count": null,
      "metadata": {
        "id": "DxstjE8b_6Te"
      },
      "outputs": [],
      "source": [
        "train_dir = 'train'\n",
        "valid_dir = 'validation'\n",
        "# test_dir  = 'test'"
      ]
    },
    {
      "cell_type": "markdown",
      "metadata": {
        "id": "Mk9XL5vGHor6"
      },
      "source": [
        "> ## 3) ImageDataGenerator( ) & flow_from_directory( )"
      ]
    },
    {
      "cell_type": "markdown",
      "metadata": {
        "id": "_UbiVo2EGlOt"
      },
      "source": [
        "* Normalization\n",
        " * ImageDataGenerator( )\n",
        "* Resizing & Generator\n",
        " * flow_from_directory( )"
      ]
    },
    {
      "cell_type": "code",
      "execution_count": null,
      "metadata": {
        "colab": {
          "base_uri": "https://localhost:8080/"
        },
        "id": "eC48Oym3Ao8E",
        "outputId": "cbe24f3d-1d4f-43fc-eeff-a53831b7c5a3"
      },
      "outputs": [
        {
          "output_type": "stream",
          "name": "stdout",
          "text": [
            "Found 6315 images belonging to 3 classes.\n",
            "Found 2717 images belonging to 3 classes.\n"
          ]
        }
      ],
      "source": [
        "from tensorflow.keras.preprocessing.image import ImageDataGenerator\n",
        "\n",
        "train_datagen = ImageDataGenerator(rescale = 1./255,\n",
        "                                   rotation_range = 40,\n",
        "                                   width_shift_range = 0.2,\n",
        "                                   height_shift_range = 0.2,\n",
        "                                   shear_range = 0.2,\n",
        "                                   zoom_range = 0.2,\n",
        "                                   horizontal_flip = True,\n",
        "                                   vertical_flip = True,\n",
        "                                   fill_mode = 'nearest')\n",
        "\n",
        "valid_datagen = ImageDataGenerator(rescale = 1./255)\n",
        "\n",
        "\n",
        "train_generator = train_datagen.flow_from_directory(\n",
        "                  train_dir,\n",
        "                  target_size = (150, 150),\n",
        "                  batch_size = 20,\n",
        "                  class_mode = 'categorical')\n",
        "\n",
        "valid_generator = valid_datagen.flow_from_directory(\n",
        "                  valid_dir,\n",
        "                  target_size = (150, 150),\n",
        "                  batch_size = 20,\n",
        "                  class_mode = 'categorical')"
      ]
    },
    {
      "cell_type": "markdown",
      "metadata": {
        "id": "vCpCB_giJbZr"
      },
      "source": [
        "> ## 4) Test train_generator"
      ]
    },
    {
      "cell_type": "code",
      "execution_count": null,
      "metadata": {
        "colab": {
          "base_uri": "https://localhost:8080/"
        },
        "id": "NW5rHWtcJnTq",
        "outputId": "eb55adcb-b0c4-446b-b3a5-393894c059a1"
      },
      "outputs": [
        {
          "output_type": "stream",
          "name": "stdout",
          "text": [
            "배치 데이터 크기: (20, 150, 150, 3)\n",
            "배치 레이블 크기: (20, 3)\n"
          ]
        }
      ],
      "source": [
        "for data_batch, labels_batch in train_generator:\n",
        "    print('배치 데이터 크기:', data_batch.shape)\n",
        "    print('배치 레이블 크기:', labels_batch.shape)\n",
        "    break"
      ]
    },
    {
      "cell_type": "code",
      "execution_count": null,
      "metadata": {
        "colab": {
          "base_uri": "https://localhost:8080/"
        },
        "id": "VnTocUr6YgKa",
        "outputId": "d619b557-f756-439a-cae4-a36845a7b8ab"
      },
      "outputs": [
        {
          "output_type": "execute_result",
          "data": {
            "text/plain": [
              "array([[1., 0., 0.],\n",
              "       [0., 0., 1.],\n",
              "       [1., 0., 0.],\n",
              "       [0., 1., 0.],\n",
              "       [0., 1., 0.],\n",
              "       [1., 0., 0.],\n",
              "       [0., 0., 1.],\n",
              "       [0., 1., 0.],\n",
              "       [0., 1., 0.],\n",
              "       [0., 0., 1.],\n",
              "       [1., 0., 0.],\n",
              "       [1., 0., 0.],\n",
              "       [0., 0., 1.],\n",
              "       [1., 0., 0.],\n",
              "       [1., 0., 0.],\n",
              "       [0., 1., 0.],\n",
              "       [0., 0., 1.],\n",
              "       [1., 0., 0.],\n",
              "       [0., 1., 0.],\n",
              "       [0., 0., 1.]], dtype=float32)"
            ]
          },
          "metadata": {},
          "execution_count": 8
        }
      ],
      "source": [
        "labels_batch"
      ]
    },
    {
      "cell_type": "markdown",
      "metadata": {
        "id": "wBAWLCWdGNde"
      },
      "source": [
        "# II. Import VGG-16 Model"
      ]
    },
    {
      "cell_type": "markdown",
      "metadata": {
        "id": "tpdqyBb2Gsdj"
      },
      "source": [
        "> ## 1) conv_base"
      ]
    },
    {
      "cell_type": "code",
      "execution_count": null,
      "metadata": {
        "id": "Zgv7VdbFGTGK",
        "colab": {
          "base_uri": "https://localhost:8080/"
        },
        "outputId": "453a2099-1d29-4c86-d560-8e527ef9c547"
      },
      "outputs": [
        {
          "output_type": "stream",
          "name": "stdout",
          "text": [
            "Downloading data from https://storage.googleapis.com/tensorflow/keras-applications/vgg16/vgg16_weights_tf_dim_ordering_tf_kernels_notop.h5\n",
            "58889256/58889256 [==============================] - 1s 0us/step\n"
          ]
        }
      ],
      "source": [
        "from tensorflow.keras.applications import VGG16\n",
        "\n",
        "conv_base = VGG16(weights = 'imagenet',\n",
        "                  include_top = False,\n",
        "                  input_shape = (150, 150, 3))"
      ]
    },
    {
      "cell_type": "markdown",
      "metadata": {
        "id": "GpZKQG4y3wLX"
      },
      "source": [
        "# IV. Keras CNN Modeling with VGG-16"
      ]
    },
    {
      "cell_type": "markdown",
      "metadata": {
        "id": "j5CT0TurJCkc"
      },
      "source": [
        "> ## 1) Model Define"
      ]
    },
    {
      "cell_type": "markdown",
      "metadata": {
        "id": "ydDCl0jTJD58"
      },
      "source": [
        "* 'conv_base' & 'Classification' Network\n",
        "* Dropout Layer"
      ]
    },
    {
      "cell_type": "code",
      "execution_count": null,
      "metadata": {
        "id": "II0DskRdAcHS"
      },
      "outputs": [],
      "source": [
        "from tensorflow.keras import models, layers\n",
        "\n",
        "model = models.Sequential()\n",
        "model.add(conv_base)\n",
        "\n",
        "model.add(layers.Flatten())\n",
        "model.add(layers.Dense(512, activation = 'relu'))\n",
        "model.add(layers.Dropout(0.5))\n",
        "model.add(layers.Dense(3, activation = 'softmax'))"
      ]
    },
    {
      "cell_type": "code",
      "execution_count": null,
      "metadata": {
        "colab": {
          "base_uri": "https://localhost:8080/"
        },
        "id": "wbtjOA4XMTUd",
        "outputId": "522f4853-baf2-442e-bf83-5c1d247580ce"
      },
      "outputs": [
        {
          "output_type": "stream",
          "name": "stdout",
          "text": [
            "Model: \"sequential\"\n",
            "_________________________________________________________________\n",
            " Layer (type)                Output Shape              Param #   \n",
            "=================================================================\n",
            " vgg16 (Functional)          (None, 4, 4, 512)         14714688  \n",
            "                                                                 \n",
            " flatten (Flatten)           (None, 8192)              0         \n",
            "                                                                 \n",
            " dense (Dense)               (None, 512)               4194816   \n",
            "                                                                 \n",
            " dropout (Dropout)           (None, 512)               0         \n",
            "                                                                 \n",
            " dense_1 (Dense)             (None, 3)                 1539      \n",
            "                                                                 \n",
            "=================================================================\n",
            "Total params: 18,911,043\n",
            "Trainable params: 18,911,043\n",
            "Non-trainable params: 0\n",
            "_________________________________________________________________\n"
          ]
        }
      ],
      "source": [
        "model.summary()"
      ]
    },
    {
      "cell_type": "markdown",
      "metadata": {
        "id": "tpjBDBeYoyuj"
      },
      "source": [
        "> ## 2) Model Compile"
      ]
    },
    {
      "cell_type": "markdown",
      "metadata": {
        "id": "f3sxkQa0JoUr"
      },
      "source": [
        "* 모델 학습방법 설정\n",
        " * 이미 학습된 Weight 값을 Tuning\n",
        " * 매우 작은 Learnig Rate 지정\n",
        " * optimizers.Adam(lr = 0.000005)"
      ]
    },
    {
      "cell_type": "code",
      "execution_count": null,
      "metadata": {
        "id": "AyK_t1qwAi6M"
      },
      "outputs": [],
      "source": [
        "from tensorflow.keras import optimizers\n",
        "\n",
        "model.compile(loss = 'binary_crossentropy',\n",
        "              optimizer = tf.keras.optimizers.legacy.Adam(learning_rate = 0.000005),\n",
        "              metrics = ['accuracy'])"
      ]
    },
    {
      "cell_type": "markdown",
      "metadata": {
        "id": "umiq4B-Xo3OB"
      },
      "source": [
        "> ## 3) Model Fit"
      ]
    },
    {
      "cell_type": "markdown",
      "metadata": {
        "id": "1KuXREziKMD1"
      },
      "source": [
        "* 약 30분"
      ]
    },
    {
      "cell_type": "code",
      "execution_count": null,
      "metadata": {
        "colab": {
          "base_uri": "https://localhost:8080/"
        },
        "id": "zxwqwAqRAqRP",
        "outputId": "a7702d5d-ac91-4e4c-bc37-ba47271a57dd"
      },
      "outputs": [
        {
          "output_type": "stream",
          "name": "stdout",
          "text": [
            "Epoch 1/20\n",
            "30/30 [==============================] - 19s 228ms/step - loss: 0.6240 - accuracy: 0.4717 - val_loss: 0.4921 - val_accuracy: 0.6800\n",
            "Epoch 2/20\n",
            "30/30 [==============================] - 7s 240ms/step - loss: 0.5181 - accuracy: 0.6083 - val_loss: 0.3574 - val_accuracy: 0.8250\n",
            "Epoch 3/20\n",
            "30/30 [==============================] - 8s 273ms/step - loss: 0.4468 - accuracy: 0.7133 - val_loss: 0.2500 - val_accuracy: 0.8817\n",
            "Epoch 4/20\n",
            "30/30 [==============================] - 10s 339ms/step - loss: 0.3551 - accuracy: 0.8118 - val_loss: 0.1967 - val_accuracy: 0.8933\n",
            "Epoch 5/20\n",
            "30/30 [==============================] - 8s 255ms/step - loss: 0.3003 - accuracy: 0.8150 - val_loss: 0.1337 - val_accuracy: 0.9367\n",
            "Epoch 6/20\n",
            "30/30 [==============================] - 7s 247ms/step - loss: 0.2466 - accuracy: 0.8733 - val_loss: 0.1485 - val_accuracy: 0.9033\n",
            "Epoch 7/20\n",
            "30/30 [==============================] - 8s 262ms/step - loss: 0.1791 - accuracy: 0.9183 - val_loss: 0.0972 - val_accuracy: 0.9483\n",
            "Epoch 8/20\n",
            "30/30 [==============================] - 8s 254ms/step - loss: 0.1613 - accuracy: 0.9233 - val_loss: 0.1385 - val_accuracy: 0.9317\n",
            "Epoch 9/20\n",
            "30/30 [==============================] - 7s 223ms/step - loss: 0.1520 - accuracy: 0.9267 - val_loss: 0.1035 - val_accuracy: 0.9417\n",
            "Epoch 10/20\n",
            "30/30 [==============================] - 8s 249ms/step - loss: 0.1004 - accuracy: 0.9550 - val_loss: 0.0905 - val_accuracy: 0.9583\n",
            "Epoch 11/20\n",
            "30/30 [==============================] - 8s 274ms/step - loss: 0.0951 - accuracy: 0.9667 - val_loss: 0.0415 - val_accuracy: 0.9700\n",
            "Epoch 12/20\n",
            "30/30 [==============================] - 8s 254ms/step - loss: 0.1059 - accuracy: 0.9517 - val_loss: 0.0386 - val_accuracy: 0.9783\n",
            "Epoch 13/20\n",
            "30/30 [==============================] - 7s 223ms/step - loss: 0.0691 - accuracy: 0.9700 - val_loss: 0.0580 - val_accuracy: 0.9617\n",
            "Epoch 14/20\n",
            "30/30 [==============================] - 8s 273ms/step - loss: 0.0718 - accuracy: 0.9700 - val_loss: 0.0774 - val_accuracy: 0.9600\n",
            "Epoch 15/20\n",
            "30/30 [==============================] - 7s 223ms/step - loss: 0.0660 - accuracy: 0.9717 - val_loss: 0.0292 - val_accuracy: 0.9850\n",
            "Epoch 16/20\n",
            "30/30 [==============================] - 7s 249ms/step - loss: 0.0714 - accuracy: 0.9683 - val_loss: 0.0404 - val_accuracy: 0.9750\n",
            "Epoch 17/20\n",
            "30/30 [==============================] - 7s 223ms/step - loss: 0.0599 - accuracy: 0.9750 - val_loss: 0.0190 - val_accuracy: 0.9900\n",
            "Epoch 18/20\n",
            "30/30 [==============================] - 8s 253ms/step - loss: 0.0475 - accuracy: 0.9783 - val_loss: 0.0236 - val_accuracy: 0.9883\n",
            "Epoch 19/20\n",
            "30/30 [==============================] - 7s 222ms/step - loss: 0.0493 - accuracy: 0.9800 - val_loss: 0.0103 - val_accuracy: 0.9950\n",
            "Epoch 20/20\n",
            "30/30 [==============================] - 7s 248ms/step - loss: 0.0263 - accuracy: 0.9950 - val_loss: 0.0201 - val_accuracy: 0.9900\n",
            "CPU times: user 3min 14s, sys: 5.26 s, total: 3min 19s\n",
            "Wall time: 3min 8s\n"
          ]
        }
      ],
      "source": [
        "%%time\n",
        "\n",
        "Hist_posture = model.fit(train_generator,\n",
        "                        steps_per_epoch = 30,\n",
        "                        epochs = 20,\n",
        "                        validation_data = valid_generator,\n",
        "                        validation_steps = 30)"
      ]
    },
    {
      "cell_type": "markdown",
      "metadata": {
        "id": "FnnIyFtNKhbD"
      },
      "source": [
        "> ## 4) 학습 결과 시각화"
      ]
    },
    {
      "cell_type": "code",
      "execution_count": null,
      "metadata": {
        "id": "BRIqZjTOWaN2",
        "colab": {
          "base_uri": "https://localhost:8080/",
          "height": 320
        },
        "outputId": "69557736-121e-4dcc-be3e-44afc1329dde"
      },
      "outputs": [
        {
          "output_type": "display_data",
          "data": {
            "text/plain": [
              "<Figure size 1080x360 with 2 Axes>"
            ],
            "image/png": "[encoded data removed]"
          },
          "metadata": {
            "needs_background": "light"
          }
        }
      ],
      "source": [
        "import matplotlib.pyplot as plt\n",
        "\n",
        "epochs = range(1, len(Hist_posture.history['loss']) + 1)\n",
        "\n",
        "plt.figure(figsize = (15, 5))\n",
        "\n",
        "plt.subplot(1, 2, 1)\n",
        "plt.plot(epochs, Hist_posture.history['loss'], 'b-')\n",
        "plt.plot(epochs, Hist_posture.history['val_loss'], 'r--')\n",
        "plt.title('Training & Validation Loss')\n",
        "plt.xlabel('Epochs')\n",
        "plt.ylabel('Loss')\n",
        "plt.legend(['Training Loss', 'Validation Loss'])\n",
        "plt.grid()\n",
        "\n",
        "plt.subplot(1, 2, 2)\n",
        "plt.plot(epochs, Hist_posture.history['accuracy'], 'b-')\n",
        "plt.plot(epochs, Hist_posture.history['val_accuracy'], 'r--')\n",
        "plt.title('Training & Validation Accuracy')\n",
        "plt.xlabel('Epochs')\n",
        "plt.ylabel('Accuracy')\n",
        "plt.legend(['Training Accuracy', 'Validation Accuracy'])\n",
        "plt.grid()\n",
        "\n",
        "plt.show()"
      ]
    },
    {
      "cell_type": "markdown",
      "metadata": {
        "id": "_uJSOLBko7lh"
      },
      "source": [
        "> ## 6) Model Download"
      ]
    },
    {
      "cell_type": "code",
      "execution_count": null,
      "metadata": {
        "id": "2RdTldjIiB3d"
      },
      "outputs": [],
      "source": [
        "model.save(\"posture_2.h5\")"
      ]
    },
    {
      "cell_type": "code",
      "execution_count": null,
      "metadata": {
        "id": "YZ_vs7i_hrjJ",
        "colab": {
          "base_uri": "https://localhost:8080/",
          "height": 34
        },
        "outputId": "68c23ed3-8d2c-4914-e522-89706194b454"
      },
      "outputs": [
        {
          "output_type": "display_data",
          "data": {
            "text/plain": [
              "<IPython.core.display.Javascript object>"
            ],
            "application/javascript": [
              "\n",
              "    async function download(id, filename, size) {\n",
              "      if (!google.colab.kernel.accessAllowed) {\n",
              "        return;\n",
              "      }\n",
              "      const div = document.createElement('div');\n",
              "      const label = document.createElement('label');\n",
              "      label.textContent = `Downloading \"${filename}\": `;\n",
              "      div.appendChild(label);\n",
              "      const progress = document.createElement('progress');\n",
              "      progress.max = size;\n",
              "      div.appendChild(progress);\n",
              "      document.body.appendChild(div);\n",
              "\n",
              "      const buffers = [];\n",
              "      let downloaded = 0;\n",
              "\n",
              "      const channel = await google.colab.kernel.comms.open(id);\n",
              "      // Send a message to notify the kernel that we're ready.\n",
              "      channel.send({})\n",
              "\n",
              "      for await (const message of channel.messages) {\n",
              "        // Send a message to notify the kernel that we're ready.\n",
              "        channel.send({})\n",
              "        if (message.buffers) {\n",
              "          for (const buffer of message.buffers) {\n",
              "            buffers.push(buffer);\n",
              "            downloaded += buffer.byteLength;\n",
              "            progress.value = downloaded;\n",
              "          }\n",
              "        }\n",
              "      }\n",
              "      const blob = new Blob(buffers, {type: 'application/binary'});\n",
              "      const a = document.createElement('a');\n",
              "      a.href = window.URL.createObjectURL(blob);\n",
              "      a.download = filename;\n",
              "      div.appendChild(a);\n",
              "      a.click();\n",
              "      div.remove();\n",
              "    }\n",
              "  "
            ]
          },
          "metadata": {}
        },
        {
          "output_type": "display_data",
          "data": {
            "text/plain": [
              "<IPython.core.display.Javascript object>"
            ],
            "application/javascript": [
              "download(\"download_90185317-7782-4a23-952d-ba66992be338\", \"posture_2.h5\", 227058624)"
            ]
          },
          "metadata": {}
        }
      ],
      "source": [
        "from google.colab import files\n",
        "files.download('posture_2.h5')"
      ]
    },
    {
      "cell_type": "markdown",
      "metadata": {
        "id": "twaMflsCeNPr"
      },
      "source": [
        "> ## Model Evaluate"
      ]
    },
    {
      "cell_type": "markdown",
      "source": [],
      "metadata": {
        "id": "zQagSTxcal0q"
      }
    },
    {
      "cell_type": "markdown",
      "metadata": {
        "id": "vqd33SF_RG3q"
      },
      "source": [
        "* test_generator"
      ]
    },
    {
      "cell_type": "code",
      "execution_count": null,
      "metadata": {
        "colab": {
          "base_uri": "https://localhost:8080/"
        },
        "id": "2SZddYK7RLov",
        "outputId": "4b35df8a-162e-4490-c19f-94e8c510c8a5"
      },
      "outputs": [
        {
          "name": "stdout",
          "output_type": "stream",
          "text": [
            "Found 1433 images belonging to 3 classes.\n"
          ]
        }
      ],
      "source": [
        "test_datagen = ImageDataGenerator(rescale = 1./255)\n",
        "\n",
        "test_generator = test_datagen.flow_from_directory(\n",
        "                 test_dir,\n",
        "                 target_size = (150, 150),\n",
        "                 batch_size = 20,\n",
        "                 class_mode = 'categorical')"
      ]
    },
    {
      "cell_type": "markdown",
      "metadata": {
        "id": "i-TqAB2ALGzZ"
      },
      "source": [
        "* Loss & Accuracy"
      ]
    },
    {
      "cell_type": "code",
      "execution_count": null,
      "metadata": {
        "colab": {
          "base_uri": "https://localhost:8080/"
        },
        "id": "OF30PuZsAxQJ",
        "outputId": "96e96754-8c63-4313-b268-50ec24393425"
      },
      "outputs": [
        {
          "name": "stdout",
          "output_type": "stream",
          "text": [
            "Loss = 0.32456\n",
            "Accuracy = 0.88333\n"
          ]
        }
      ],
      "source": [
        "loss, accuracy = model.evaluate(test_generator,\n",
        "                                steps = 3, \n",
        "                                verbose = 0)\n",
        "\n",
        "print('Loss = {:.5f}'.format(loss))\n",
        "print('Accuracy = {:.5f}'.format(accuracy))"
      ]
    },
    {
      "cell_type": "markdown",
      "metadata": {
        "id": "sN48I9GrLxOX"
      },
      "source": [
        "# \n",
        "# \n",
        "# \n",
        "# The End\n",
        "# \n",
        "# \n",
        "# "
      ]
    },
    {
      "cell_type": "code",
      "execution_count": null,
      "metadata": {
        "id": "w94yWj5roV6g"
      },
      "outputs": [],
      "source": []
    }
  ],
  "metadata": {
    "colab": {
      "provenance": []
    },
    "gpuClass": "standard",
    "kernelspec": {
      "display_name": "Python 3",
      "name": "python3"
    },
    "accelerator": "GPU"
  },
  "nbformat": 4,
  "nbformat_minor": 0
}